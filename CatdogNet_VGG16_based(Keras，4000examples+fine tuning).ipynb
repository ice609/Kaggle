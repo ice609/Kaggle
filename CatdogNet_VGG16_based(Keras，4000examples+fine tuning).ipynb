{
 "cells": [
  {
   "cell_type": "code",
   "execution_count": 1,
   "metadata": {},
   "outputs": [
    {
     "name": "stderr",
     "output_type": "stream",
     "text": [
      "Using TensorFlow backend.\n"
     ]
    },
    {
     "name": "stdout",
     "output_type": "stream",
     "text": [
      "_________________________________________________________________\n",
      "Layer (type)                 Output Shape              Param #   \n",
      "=================================================================\n",
      "input_1 (InputLayer)         (None, 150, 150, 3)       0         \n",
      "_________________________________________________________________\n",
      "block1_conv1 (Conv2D)        (None, 150, 150, 64)      1792      \n",
      "_________________________________________________________________\n",
      "block1_conv2 (Conv2D)        (None, 150, 150, 64)      36928     \n",
      "_________________________________________________________________\n",
      "block1_pool (MaxPooling2D)   (None, 75, 75, 64)        0         \n",
      "_________________________________________________________________\n",
      "block2_conv1 (Conv2D)        (None, 75, 75, 128)       73856     \n",
      "_________________________________________________________________\n",
      "block2_conv2 (Conv2D)        (None, 75, 75, 128)       147584    \n",
      "_________________________________________________________________\n",
      "block2_pool (MaxPooling2D)   (None, 37, 37, 128)       0         \n",
      "_________________________________________________________________\n",
      "block3_conv1 (Conv2D)        (None, 37, 37, 256)       295168    \n",
      "_________________________________________________________________\n",
      "block3_conv2 (Conv2D)        (None, 37, 37, 256)       590080    \n",
      "_________________________________________________________________\n",
      "block3_conv3 (Conv2D)        (None, 37, 37, 256)       590080    \n",
      "_________________________________________________________________\n",
      "block3_pool (MaxPooling2D)   (None, 18, 18, 256)       0         \n",
      "_________________________________________________________________\n",
      "block4_conv1 (Conv2D)        (None, 18, 18, 512)       1180160   \n",
      "_________________________________________________________________\n",
      "block4_conv2 (Conv2D)        (None, 18, 18, 512)       2359808   \n",
      "_________________________________________________________________\n",
      "block4_conv3 (Conv2D)        (None, 18, 18, 512)       2359808   \n",
      "_________________________________________________________________\n",
      "block4_pool (MaxPooling2D)   (None, 9, 9, 512)         0         \n",
      "_________________________________________________________________\n",
      "block5_conv1 (Conv2D)        (None, 9, 9, 512)         2359808   \n",
      "_________________________________________________________________\n",
      "block5_conv2 (Conv2D)        (None, 9, 9, 512)         2359808   \n",
      "_________________________________________________________________\n",
      "block5_conv3 (Conv2D)        (None, 9, 9, 512)         2359808   \n",
      "_________________________________________________________________\n",
      "block5_pool (MaxPooling2D)   (None, 4, 4, 512)         0         \n",
      "=================================================================\n",
      "Total params: 14,714,688\n",
      "Trainable params: 14,714,688\n",
      "Non-trainable params: 0\n",
      "_________________________________________________________________\n"
     ]
    }
   ],
   "source": [
    "# 采用Transfer Learning,对VGG16进行特征抽取\n",
    "# 即对VGG16中Flatten后面的神经层全部去掉，换上我们自己的神经层，这个行为叫做特征抽取\n",
    "# 注：VGG16中，前面的多重卷积层和池化层对图像特征已做了很好的提取，此部分可以直接使用\n",
    "\n",
    "# 通过代码来初始化一个VGG16网络实例\n",
    "import keras\n",
    "from keras.applications.vgg16 import VGG16\n",
    "from keras.preprocessing import image\n",
    "from keras.applications.vgg16 import preprocess_input\n",
    "from keras.preprocessing.image import ImageDataGenerator\n",
    "import numpy as np\n",
    "\n",
    "# 下载vgg16模型预训练权重，将之放到~/.keras/model/下面，\n",
    "# 这样在keras导入vgg16的时候就不会联网下载\n",
    "\n",
    "# weight参数告诉程序将网络的卷积层和max pooling层对应的参数传递过来，\n",
    "# 并将它们初始化成对应的网络层次\n",
    "# include_top表示是否也要把Flatten()后面的网络层也下载过来\n",
    "# input_shape告诉网络，我们输入图片的大小是150*150像素，每个像素由[R, G, B]三个值表示\n",
    "conv_base = VGG16(weights=\"imagenet\", include_top=False,input_shape = (150,150,3))\n",
    "\n",
    "conv_base.summary()"
   ]
  },
  {
   "cell_type": "code",
   "execution_count": 2,
   "metadata": {},
   "outputs": [
    {
     "name": "stdout",
     "output_type": "stream",
     "text": [
      "Found 2000 images belonging to 2 classes.\n",
      "Found 1000 images belonging to 2 classes.\n",
      "Found 1000 images belonging to 2 classes.\n"
     ]
    }
   ],
   "source": [
    "# 接下来我们将把自己的图片读进来，\n",
    "# 把图片喂给上面网络，让它把图片的隐含信息给抽取出来\n",
    "import os\n",
    "import numpy as np\n",
    "from keras.preprocessing.image import ImageDataGenerator\n",
    "\n",
    "base_dir = \"C:/Users/hh/Desktop/Kaggle/2.0 CatdogNet/input/train3\"\n",
    "train_dir = os.path.join(base_dir,\"train\")\n",
    "validation_dir = os.path.join(base_dir,\"validation\")\n",
    "test_dir = os.path.join(base_dir,\"test\")\n",
    "\n",
    "datagen = ImageDataGenerator(rescale = 1. / 255)\n",
    "batch_size = 20\n",
    "\n",
    "# generator 实际上是将数据批量读入内存，使得代码能以for in 的方式去方便的访问\n",
    "# 利用VGG16的卷积层把图片的特征抽取出来\n",
    "def extract_features(directory,sample_count):\n",
    "    features = np.zeros(shape = (sample_count,4,4,512))\n",
    "    labels = np.zeros(shape = (sample_count))\n",
    "    generator = datagen.flow_from_directory(directory,target_size = (150,150),\n",
    "                                           batch_size = batch_size,\n",
    "                                           class_mode = \"binary\")\n",
    "    i = 0\n",
    "    for inputs_batch,labels_batch in generator:\n",
    "        # 把图片输入VGG16层的卷积层，让它把图片信息抽取出来\n",
    "        features_batch = conv_base.predict(inputs_batch)\n",
    "        # feature_batch是4*4*512结构的\n",
    "        features[i * batch_size: (i + 1) * batch_size] = features_batch\n",
    "        labels[i * batch_size: (i + 1) * batch_size] = labels_batch\n",
    "        i += 1\n",
    "        if i * batch_size >= sample_count:\n",
    "            # for in 在generator上的循环是无限的，因此需要主动break掉\n",
    "            break\n",
    "        return features,labels\n",
    "# extract_features返回数据格式为（samples，4,4,512）\n",
    "train_features,train_labels = extract_features(train_dir,2000)\n",
    "validation_features,validation_labels = extract_features(validation_dir,1000)\n",
    "test_features,test_labels = extract_features(test_dir,1000)"
   ]
  },
  {
   "cell_type": "code",
   "execution_count": 4,
   "metadata": {},
   "outputs": [
    {
     "name": "stdout",
     "output_type": "stream",
     "text": [
      "Train on 2000 samples, validate on 1000 samples\n",
      "Epoch 1/30\n",
      "2000/2000 [==============================] - 4s 2ms/step - loss: 0.6905 - acc: 0.9945 - val_loss: 0.6842 - val_acc: 0.9930\n",
      "Epoch 2/30\n",
      "2000/2000 [==============================] - 3s 2ms/step - loss: 0.6837 - acc: 0.9965 - val_loss: 0.6761 - val_acc: 0.9930\n",
      "Epoch 3/30\n",
      "2000/2000 [==============================] - 3s 2ms/step - loss: 0.6734 - acc: 0.9970 - val_loss: 0.6679 - val_acc: 0.9930\n",
      "Epoch 4/30\n",
      "2000/2000 [==============================] - 3s 2ms/step - loss: 0.6634 - acc: 0.9975 - val_loss: 0.6599 - val_acc: 0.9930\n",
      "Epoch 5/30\n",
      "2000/2000 [==============================] - 3s 2ms/step - loss: 0.6549 - acc: 0.9975 - val_loss: 0.6501 - val_acc: 0.9930\n",
      "Epoch 6/30\n",
      "2000/2000 [==============================] - 3s 2ms/step - loss: 0.6438 - acc: 0.9985 - val_loss: 0.6409 - val_acc: 0.9930\n",
      "Epoch 7/30\n",
      "2000/2000 [==============================] - 3s 2ms/step - loss: 0.6340 - acc: 0.9990 - val_loss: 0.6325 - val_acc: 0.9930\n",
      "Epoch 8/30\n",
      "2000/2000 [==============================] - 3s 2ms/step - loss: 0.6237 - acc: 0.9990 - val_loss: 0.6231 - val_acc: 0.9930\n",
      "Epoch 9/30\n",
      "2000/2000 [==============================] - 3s 2ms/step - loss: 0.6143 - acc: 0.9985 - val_loss: 0.6130 - val_acc: 0.9930\n",
      "Epoch 10/30\n",
      "2000/2000 [==============================] - 3s 2ms/step - loss: 0.6037 - acc: 0.9995 - val_loss: 0.6033 - val_acc: 0.9930\n",
      "Epoch 11/30\n",
      "2000/2000 [==============================] - 3s 2ms/step - loss: 0.5925 - acc: 0.9995 - val_loss: 0.5952 - val_acc: 0.9930\n",
      "Epoch 12/30\n",
      "2000/2000 [==============================] - 3s 2ms/step - loss: 0.5822 - acc: 0.9990 - val_loss: 0.5848 - val_acc: 0.9930\n",
      "Epoch 13/30\n",
      "2000/2000 [==============================] - 3s 2ms/step - loss: 0.5710 - acc: 0.9995 - val_loss: 0.5718 - val_acc: 0.9930\n",
      "Epoch 14/30\n",
      "2000/2000 [==============================] - 3s 2ms/step - loss: 0.5594 - acc: 1.0000 - val_loss: 0.5618 - val_acc: 0.9930\n",
      "Epoch 15/30\n",
      "2000/2000 [==============================] - 3s 2ms/step - loss: 0.5476 - acc: 1.0000 - val_loss: 0.5501 - val_acc: 0.9930\n",
      "Epoch 16/30\n",
      "2000/2000 [==============================] - 3s 2ms/step - loss: 0.5370 - acc: 1.0000 - val_loss: 0.5423 - val_acc: 0.9930\n",
      "Epoch 17/30\n",
      "2000/2000 [==============================] - 3s 2ms/step - loss: 0.5255 - acc: 0.9995 - val_loss: 0.5303 - val_acc: 0.9930\n",
      "Epoch 18/30\n",
      "2000/2000 [==============================] - 3s 2ms/step - loss: 0.5147 - acc: 1.0000 - val_loss: 0.5176 - val_acc: 0.9930\n",
      "Epoch 19/30\n",
      "2000/2000 [==============================] - 3s 2ms/step - loss: 0.5017 - acc: 1.0000 - val_loss: 0.5073 - val_acc: 0.9930\n",
      "Epoch 20/30\n",
      "2000/2000 [==============================] - 3s 2ms/step - loss: 0.4900 - acc: 1.0000 - val_loss: 0.4984 - val_acc: 0.9930\n",
      "Epoch 21/30\n",
      "2000/2000 [==============================] - 3s 2ms/step - loss: 0.4782 - acc: 1.0000 - val_loss: 0.4868 - val_acc: 0.9930\n",
      "Epoch 22/30\n",
      "2000/2000 [==============================] - 3s 2ms/step - loss: 0.4666 - acc: 0.9990 - val_loss: 0.4721 - val_acc: 0.9930\n",
      "Epoch 23/30\n",
      "2000/2000 [==============================] - 3s 2ms/step - loss: 0.4543 - acc: 1.0000 - val_loss: 0.4600 - val_acc: 0.9940\n",
      "Epoch 24/30\n",
      "2000/2000 [==============================] - 3s 2ms/step - loss: 0.4418 - acc: 1.0000 - val_loss: 0.4516 - val_acc: 0.9930\n",
      "Epoch 25/30\n",
      "2000/2000 [==============================] - 3s 2ms/step - loss: 0.4299 - acc: 1.0000 - val_loss: 0.4376 - val_acc: 0.9940\n",
      "Epoch 26/30\n",
      "2000/2000 [==============================] - 3s 2ms/step - loss: 0.4186 - acc: 1.0000 - val_loss: 0.4242 - val_acc: 0.9940\n",
      "Epoch 27/30\n",
      "2000/2000 [==============================] - 3s 2ms/step - loss: 0.4064 - acc: 1.0000 - val_loss: 0.4137 - val_acc: 0.9940\n",
      "Epoch 28/30\n",
      "2000/2000 [==============================] - 3s 2ms/step - loss: 0.3942 - acc: 1.0000 - val_loss: 0.4036 - val_acc: 0.9940\n",
      "Epoch 29/30\n",
      "2000/2000 [==============================] - 3s 2ms/step - loss: 0.3831 - acc: 1.0000 - val_loss: 0.3946 - val_acc: 0.9930\n",
      "Epoch 30/30\n",
      "2000/2000 [==============================] - 3s 2ms/step - loss: 0.3699 - acc: 1.0000 - val_loss: 0.3813 - val_acc: 0.9940\n"
     ]
    }
   ],
   "source": [
    "# 上面代码利用VGG16的卷积层把图片的特征抽取出来，\n",
    "# 接下来就可以把抽取的特征输入到我们自己的神经层中进行分类\n",
    "train_features = np.reshape(train_features,(2000,4*4*512))\n",
    "validation_features = np.reshape(validation_features,(1000,4*4*512))\n",
    "test_features = np.reshape(test_features,(1000,4*4*512))\n",
    "\n",
    "from keras import models\n",
    "from keras import layers\n",
    "from keras import optimizers\n",
    "\n",
    "# 构造新的网络对输出层进行分类\n",
    "model = models.Sequential()\n",
    "model.add(layers.Dense(256,activation = \"relu\",input_dim = 4 * 4 * 512))\n",
    "model.add(layers.Dropout(0.5))\n",
    "model.add(layers.Dense(1,activation = \"sigmoid\"))\n",
    "\n",
    "model.compile(optimizer = optimizers.RMSprop(lr = 2e-5), loss = \"binary_crossentropy\",\n",
    "             metrics = [\"acc\"])\n",
    "history = model.fit(train_features,train_labels,epochs = 30,batch_size = 20,\n",
    "                   validation_data = (validation_features,validation_labels))"
   ]
  },
  {
   "cell_type": "code",
   "execution_count": 5,
   "metadata": {},
   "outputs": [
    {
     "data": {
      "image/png": "[encoded data removed]",
      "text/plain": [
       "<matplotlib.figure.Figure at 0x182415c0>"
      ]
     },
     "metadata": {},
     "output_type": "display_data"
    },
    {
     "data": {
      "image/png": "[encoded data removed]",
      "text/plain": [
       "<matplotlib.figure.Figure at 0x1810b748>"
      ]
     },
     "metadata": {},
     "output_type": "display_data"
    }
   ],
   "source": [
    "# 绘制曲线\n",
    "import matplotlib.pyplot as plt\n",
    "\n",
    "acc = history.history[\"acc\"]\n",
    "val_acc = history.history[\"val_acc\"]\n",
    "loss = history.history[\"loss\"]\n",
    "val_loss = history.history[\"val_loss\"]\n",
    "\n",
    "epochs = range(1,len(acc) + 1)\n",
    "\n",
    "plt.plot(epochs,acc,\"bo\",label = \"Train_acc\")\n",
    "plt.plot(epochs,val_acc,\"b\",label = \"Validation acc\")\n",
    "plt.title(\"Training and validation accuracy\")\n",
    "plt.legend()\n",
    "\n",
    "plt.figure()\n",
    "\n",
    "plt.plot(epochs,loss,\"bo\",label = \"Training loss\")\n",
    "plt.plot(epochs,val_loss,\"b\",label= \"Validation loss\")\n",
    "plt.title(\"Training and validation loss\")\n",
    "plt.legend()\n",
    "\n",
    "plt.show()"
   ]
  },
  {
   "cell_type": "code",
   "execution_count": 26,
   "metadata": {},
   "outputs": [
    {
     "name": "stdout",
     "output_type": "stream",
     "text": [
      "_________________________________________________________________\n",
      "Layer (type)                 Output Shape              Param #   \n",
      "=================================================================\n",
      "vgg16 (Model)                (None, 4, 4, 512)         14714688  \n",
      "_________________________________________________________________\n",
      "flatten_2 (Flatten)          (None, 8192)              0         \n",
      "_________________________________________________________________\n",
      "dense_4 (Dense)              (None, 256)               2097408   \n",
      "_________________________________________________________________\n",
      "dense_5 (Dense)              (None, 1)                 257       \n",
      "=================================================================\n",
      "Total params: 16,812,353\n",
      "Trainable params: 16,812,353\n",
      "Non-trainable params: 0\n",
      "_________________________________________________________________\n"
     ]
    }
   ],
   "source": [
    "\"\"\"\n",
    "\n",
    "上图就是我们从VGG16拿到的卷积层，我们用自己的图片去训练修改它最高的两层，\n",
    "其他层次不做修改，这种只影响模型一部分的方法就叫参数调优。\n",
    "调优必须只对VGG16的卷积层做小范围修改，因为它的模型是经过大数据，\n",
    "反复训练得到的，如果我们对它进行大范围修改，就会破坏它原来训练的结果，\n",
    "这样人家辛苦做出来的工作成果就会被我们毁于一旦。所以参数调优的步骤如下：\n",
    "\n",
    "1，将我们自己的网络层添加到VGG16的卷积层之上。 \n",
    "2，固定VGG16的卷积层保持不变。 \n",
    "3，用数据训练我们自己添加的网络层 \n",
    "4，将VGG16的卷积层最高两层放开 \n",
    "5，用数据同时训练放开的那两层卷积层和我们自己添加的网络层\n",
    "\n",
    "\"\"\"\n",
    "\n",
    "model = models.Sequential()\n",
    "# 将VGG16的卷积层直接添加到我们自己的网络\n",
    "model.add(conv_base)\n",
    "# 添加我们自己的网络层\n",
    "model.add(layers.Flatten())\n",
    "model.add(layers.Dense(256,activation = \"relu\"))\n",
    "model.add(layers.Dense(1,activation = \"sigmoid\"))\n",
    "model.summary()"
   ]
  },
  {
   "cell_type": "code",
   "execution_count": 29,
   "metadata": {
    "collapsed": true
   },
   "outputs": [],
   "source": [
    "\"\"\"\n",
    "从上面输出结果看，VGG16的卷积层已经有一千多万个参数了！\n",
    "用个人电脑单个CPU是不可能对这个模型进行训练的！\n",
    "但我们可以训练它的其中一部分，我们把它最高三层与我们自己的网络层结合在一起训练，\n",
    "同时冻结最低四层。下面的代码将会把卷积层进行部分冻结：\n",
    "\"\"\"\n",
    "conv_base.trainable = True\n",
    "set_trainable = False\n",
    "# 一旦读取到“block_conv1”时，意味着来到了卷积网络的最高三层\n",
    "# 可以使用con_based.summary() 来查看卷积层的信息\n",
    "for layer in conv_base.layers:\n",
    "    if layer.name == \"block5_conv1\":\n",
    "        set_trainable = True\n",
    "    if set_trainable:\n",
    "        # 当Trainable == True 意味着该网络层可以更改，要不然该网络层会被冻结，不能修改\n",
    "        layer.trainable = True\n",
    "    else:\n",
    "        layer.trainable = False\n"
   ]
  },
  {
   "cell_type": "code",
   "execution_count": 30,
   "metadata": {},
   "outputs": [
    {
     "name": "stdout",
     "output_type": "stream",
     "text": [
      "Found 2000 images belonging to 2 classes.\n",
      "Found 1000 images belonging to 2 classes.\n",
      "Epoch 1/30\n",
      "100/100 [==============================] - 476s 5s/step - loss: 0.3521 - acc: 0.8490 - val_loss: 0.2231 - val_acc: 0.9100\n",
      "Epoch 2/30\n",
      "100/100 [==============================] - 478s 5s/step - loss: 0.1645 - acc: 0.9400 - val_loss: 0.1940 - val_acc: 0.9100\n",
      "Epoch 3/30\n",
      "100/100 [==============================] - 475s 5s/step - loss: 0.0873 - acc: 0.9730 - val_loss: 0.1859 - val_acc: 0.9220\n",
      "Epoch 4/30\n",
      "100/100 [==============================] - 480s 5s/step - loss: 0.0505 - acc: 0.9825 - val_loss: 0.3072 - val_acc: 0.8810\n",
      "Epoch 5/30\n",
      "100/100 [==============================] - 480s 5s/step - loss: 0.0234 - acc: 0.9940 - val_loss: 0.2402 - val_acc: 0.9210\n",
      "Epoch 6/30\n",
      "100/100 [==============================] - 479s 5s/step - loss: 0.0137 - acc: 0.9950 - val_loss: 0.2124 - val_acc: 0.9130\n",
      "Epoch 7/30\n",
      "100/100 [==============================] - 482s 5s/step - loss: 0.0075 - acc: 0.9980 - val_loss: 0.2455 - val_acc: 0.9260\n",
      "Epoch 8/30\n",
      "100/100 [==============================] - 479s 5s/step - loss: 0.0103 - acc: 0.9950 - val_loss: 0.2253 - val_acc: 0.9270\n",
      "Epoch 9/30\n",
      "100/100 [==============================] - 486s 5s/step - loss: 0.0105 - acc: 0.9970 - val_loss: 0.2885 - val_acc: 0.9140\n",
      "Epoch 10/30\n",
      "100/100 [==============================] - 476s 5s/step - loss: 0.0041 - acc: 0.9975 - val_loss: 0.2968 - val_acc: 0.9230\n",
      "Epoch 11/30\n",
      "100/100 [==============================] - 475s 5s/step - loss: 0.0022 - acc: 0.9995 - val_loss: 0.3043 - val_acc: 0.9190\n",
      "Epoch 12/30\n",
      "100/100 [==============================] - 469s 5s/step - loss: 6.5628e-04 - acc: 1.0000 - val_loss: 0.3226 - val_acc: 0.9300\n",
      "Epoch 13/30\n",
      "100/100 [==============================] - 448s 4s/step - loss: 0.0057 - acc: 0.9975 - val_loss: 0.3264 - val_acc: 0.9250\n",
      "Epoch 14/30\n",
      "100/100 [==============================] - 451s 5s/step - loss: 3.1292e-04 - acc: 1.0000 - val_loss: 0.3650 - val_acc: 0.9210\n",
      "Epoch 15/30\n",
      "100/100 [==============================] - 448s 4s/step - loss: 0.0024 - acc: 0.9985 - val_loss: 0.3322 - val_acc: 0.9280\n",
      "Epoch 16/30\n",
      "100/100 [==============================] - 447s 4s/step - loss: 0.0026 - acc: 0.9985 - val_loss: 0.3514 - val_acc: 0.9170\n",
      "Epoch 17/30\n",
      "100/100 [==============================] - 448s 4s/step - loss: 1.7255e-05 - acc: 1.0000 - val_loss: 0.3720 - val_acc: 0.9210\n",
      "Epoch 18/30\n",
      "100/100 [==============================] - 446s 4s/step - loss: 6.8491e-04 - acc: 0.9995 - val_loss: 0.3667 - val_acc: 0.9290\n",
      "Epoch 19/30\n",
      "100/100 [==============================] - 446s 4s/step - loss: 0.0053 - acc: 0.9970 - val_loss: 0.4369 - val_acc: 0.9200\n",
      "Epoch 20/30\n",
      "100/100 [==============================] - 446s 4s/step - loss: 1.1386e-05 - acc: 1.0000 - val_loss: 0.3951 - val_acc: 0.9320\n",
      "Epoch 21/30\n",
      "100/100 [==============================] - 446s 4s/step - loss: 0.0010 - acc: 0.9995 - val_loss: 0.5586 - val_acc: 0.9150\n",
      "Epoch 22/30\n",
      "100/100 [==============================] - 447s 4s/step - loss: 1.0845e-05 - acc: 1.0000 - val_loss: 0.4579 - val_acc: 0.9300\n",
      "Epoch 23/30\n",
      "100/100 [==============================] - 449s 4s/step - loss: 8.6128e-04 - acc: 0.9995 - val_loss: 0.4263 - val_acc: 0.9300\n",
      "Epoch 24/30\n",
      "100/100 [==============================] - 448s 4s/step - loss: 1.2232e-06 - acc: 1.0000 - val_loss: 0.4795 - val_acc: 0.9270\n",
      "Epoch 25/30\n",
      "100/100 [==============================] - 448s 4s/step - loss: 0.0025 - acc: 0.9990 - val_loss: 0.4789 - val_acc: 0.9260\n",
      "Epoch 26/30\n",
      "100/100 [==============================] - 447s 4s/step - loss: 5.5386e-04 - acc: 0.9995 - val_loss: 0.5764 - val_acc: 0.9180\n",
      "Epoch 27/30\n",
      "100/100 [==============================] - 449s 4s/step - loss: 2.7633e-06 - acc: 1.0000 - val_loss: 0.4529 - val_acc: 0.9300\n",
      "Epoch 28/30\n",
      "100/100 [==============================] - 448s 4s/step - loss: 0.0015 - acc: 0.9990 - val_loss: 0.4507 - val_acc: 0.9330\n",
      "Epoch 29/30\n",
      "100/100 [==============================] - 448s 4s/step - loss: 9.9646e-07 - acc: 1.0000 - val_loss: 0.4595 - val_acc: 0.9350\n",
      "Epoch 30/30\n",
      "100/100 [==============================] - 448s 4s/step - loss: 0.0034 - acc: 0.9985 - val_loss: 0.4773 - val_acc: 0.9280\n"
     ]
    }
   ],
   "source": [
    "# 然后我们把数据传入网络，训练给定的卷积层和我们自己的网络层\n",
    "\n",
    "# 把图片数据读取进来\n",
    "test_datagen = ImageDataGenerator(rescale = 1. / 255)\n",
    "train_generator = test_datagen.flow_from_directory(train_dir,target_size = (150,150),\n",
    "                                                  batch_size = 20, class_mode = \"binary\")\n",
    "validation_generator = test_datagen.flow_from_directory(validation_dir,\n",
    "                                                        target_size = (150,150),\n",
    "                                                       batch_size = 20,\n",
    "                                                       class_mode = \"binary\")\n",
    "model.compile(loss = \"binary_crossentropy\",optimizer = optimizers.RMSprop(2e-5),\n",
    "             metrics = [\"acc\"])\n",
    "history = model.fit_generator(train_generator,steps_per_epoch = 100, epochs = 30,\n",
    "                             validation_data = validation_generator,\n",
    "                             validation_steps = 50)"
   ]
  },
  {
   "cell_type": "code",
   "execution_count": 31,
   "metadata": {},
   "outputs": [
    {
     "data": {
      "image/png": "[encoded data removed]",
      "text/plain": [
       "<matplotlib.figure.Figure at 0x16348f28>"
      ]
     },
     "metadata": {},
     "output_type": "display_data"
    },
    {
     "data": {
      "image/png": "[encoded data removed]",
      "text/plain": [
       "<matplotlib.figure.Figure at 0x18b4a9b0>"
      ]
     },
     "metadata": {},
     "output_type": "display_data"
    }
   ],
   "source": [
    "# 绘制曲线\n",
    "import matplotlib.pyplot as plt\n",
    "\n",
    "acc = history.history[\"acc\"]\n",
    "val_acc = history.history[\"val_acc\"]\n",
    "loss = history.history[\"loss\"]\n",
    "val_loss = history.history[\"val_loss\"]\n",
    "\n",
    "epochs = range(1,len(acc) + 1)\n",
    "\n",
    "plt.plot(epochs,acc,\"bo\",label = \"Train_acc\")\n",
    "plt.plot(epochs,val_acc,\"b\",label = \"Validation acc\")\n",
    "plt.title(\"Training and validation accuracy\")\n",
    "plt.legend()\n",
    "\n",
    "plt.figure()\n",
    "\n",
    "plt.plot(epochs,loss,\"bo\",label = \"Training loss\")\n",
    "plt.plot(epochs,val_loss,\"b\",label= \"Validation loss\")\n",
    "plt.title(\"Training and validation loss\")\n",
    "plt.legend()\n",
    "\n",
    "plt.show()"
   ]
  },
  {
   "cell_type": "code",
   "execution_count": null,
   "metadata": {
    "collapsed": true
   },
   "outputs": [],
   "source": [
    "#  link    https://blog.csdn.net/tyler_download/article/details/81179229"
   ]
  }
 ],
 "metadata": {
  "kernelspec": {
   "display_name": "Python [default]",
   "language": "python",
   "name": "python3"
  },
  "language_info": {
   "codemirror_mode": {
    "name": "ipython",
    "version": 3
   },
   "file_extension": ".py",
   "mimetype": "text/x-python",
   "name": "python",
   "nbconvert_exporter": "python",
   "pygments_lexer": "ipython3",
   "version": "3.5.4"
  }
 },
 "nbformat": 4,
 "nbformat_minor": 2
}
