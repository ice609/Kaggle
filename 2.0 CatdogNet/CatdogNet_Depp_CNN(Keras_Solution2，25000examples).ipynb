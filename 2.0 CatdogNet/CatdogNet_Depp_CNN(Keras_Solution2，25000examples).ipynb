{
 "cells": [
  {
   "cell_type": "code",
   "execution_count": 1,
   "metadata": {},
   "outputs": [
    {
     "ename": "OSError",
     "evalue": "symbolic link privilege not held",
     "output_type": "error",
     "traceback": [
      "\u001b[1;31m---------------------------------------------------------------------------\u001b[0m",
      "\u001b[1;31mOSError\u001b[0m                                   Traceback (most recent call last)",
      "\u001b[1;32m<ipython-input-1-80584b80828d>\u001b[0m in \u001b[0;36m<module>\u001b[1;34m()\u001b[0m\n\u001b[0;32m     21\u001b[0m \u001b[0mrmrf_mkdir\u001b[0m\u001b[1;33m(\u001b[0m\u001b[1;34m\"C:/Users/hh/Desktop/Kaggle/2.0 CatdogNet/input/test4\"\u001b[0m\u001b[1;33m)\u001b[0m\u001b[1;33m\u001b[0m\u001b[0m\n\u001b[0;32m     22\u001b[0m os.symlink(\"C:/Users/hh/Desktop/Kaggle/2.0 CatdogNet/input/test\",\n\u001b[1;32m---> 23\u001b[1;33m            \"C:/Users/hh/Desktop/Kaggle/2.0 CatdogNet/input/test4/test\")\n\u001b[0m\u001b[0;32m     24\u001b[0m \u001b[1;33m\u001b[0m\u001b[0m\n\u001b[0;32m     25\u001b[0m \u001b[1;32mfor\u001b[0m \u001b[0mfilename\u001b[0m \u001b[1;32min\u001b[0m \u001b[0mtrain_cat\u001b[0m\u001b[1;33m:\u001b[0m\u001b[1;33m\u001b[0m\u001b[0m\n",
      "\u001b[1;31mOSError\u001b[0m: symbolic link privilege not held"
     ]
    }
   ],
   "source": [
    "\"\"\"\n",
    "import os\n",
    "import shutil\n",
    "\n",
    "# shutil.rmtree,递归删除\n",
    "# os.symlink（src, dst），创建软链接，src -- 源地址， dst -- 目标地址\n",
    "\n",
    "train_filenames = os.listdir(\"C:/Users/hh/Desktop/Kaggle/2.0 CatdogNet/input/train\")\n",
    "train_cat = filter(lambda x:x[:3] == \"cat\", train_filenames)\n",
    "train_dog = filter(lambda x:x[:3] == \"dog\", train_filenames)\n",
    "\n",
    "def rmrf_mkdir(dirname):\n",
    "    if os.path.exists(dirname):\n",
    "        shutil.rmtree(dirname)\n",
    "    os.mkdir(dirname)\n",
    "\n",
    "# 使用os.mkdir()函数创建目录（创建一级目录）\n",
    "rmrf_mkdir(\"C:/Users/hh/Desktop/Kaggle/2.0 CatdogNet/input/train4\")\n",
    "os.mkdir(\"C:/Users/hh/Desktop/Kaggle/2.0 CatdogNet/input/train4/cat\")\n",
    "os.mkdir(\"C:/Users/hh/Desktop/Kaggle/2.0 CatdogNet/input/train4/dog\")\n",
    "\n",
    "rmrf_mkdir(\"C:/Users/hh/Desktop/Kaggle/2.0 CatdogNet/input/test4\")\n",
    "os.symlink(\"C:/Users/hh/Desktop/Kaggle/2.0 CatdogNet/input/test\",\n",
    "           \"C:/Users/hh/Desktop/Kaggle/2.0 CatdogNet/input/test4/test\")\n",
    "           \n",
    "for filename in train_cat:\n",
    "    os.symlink(\"C:/Users/hh/Desktop/Kaggle/2.0 CatdogNet/input/train\" + filename, \n",
    "              \"C:/Users/hh/Desktop/Kaggle/2.0 CatdogNet/input/train4/cat\" + filename)\n",
    "for filename in train_dog:\n",
    "    os.symlink(\"C:/Users/hh/Desktop/Kaggle/2.0 CatdogNet/input/train\" + filename,\n",
    "              \"C:/Users/hh/Desktop/Kaggle/2.0 CatdogNet/input/train4/cat\" + filename)\n",
    "              \n",
    "\"\"\""
   ]
  },
  {
   "cell_type": "code",
   "execution_count": 5,
   "metadata": {},
   "outputs": [
    {
     "name": "stderr",
     "output_type": "stream",
     "text": [
      "C:\\Users\\hh\\Anaconda3\\lib\\site-packages\\keras_applications\\resnet50.py:265: UserWarning: The output shape of `ResNet50(include_top=False)` has been changed since Keras 2.2.0.\n",
      "  warnings.warn('The output shape of `ResNet50(include_top=False)` '\n"
     ]
    },
    {
     "name": "stdout",
     "output_type": "stream",
     "text": [
      "Found 25000 images belonging to 2 classes.\n",
      "Found 0 images belonging to 0 classes.\n"
     ]
    },
    {
     "ename": "AttributeError",
     "evalue": "'DirectoryIterator' object has no attribute 'nb_sample'",
     "output_type": "error",
     "traceback": [
      "\u001b[1;31m---------------------------------------------------------------------------\u001b[0m",
      "\u001b[1;31mAttributeError\u001b[0m                            Traceback (most recent call last)",
      "\u001b[1;32m<ipython-input-5-d77653959525>\u001b[0m in \u001b[0;36m<module>\u001b[1;34m()\u001b[0m\n\u001b[0;32m     34\u001b[0m         \u001b[0mh\u001b[0m\u001b[1;33m.\u001b[0m\u001b[0mcreate_dataset\u001b[0m\u001b[1;33m(\u001b[0m\u001b[1;34m\"label\"\u001b[0m\u001b[1;33m,\u001b[0m\u001b[0mdata\u001b[0m \u001b[1;33m=\u001b[0m \u001b[0mtrain_generator\u001b[0m\u001b[1;33m.\u001b[0m\u001b[0mclasses\u001b[0m\u001b[1;33m)\u001b[0m\u001b[1;33m\u001b[0m\u001b[0m\n\u001b[0;32m     35\u001b[0m \u001b[1;33m\u001b[0m\u001b[0m\n\u001b[1;32m---> 36\u001b[1;33m \u001b[0mwrite_gap\u001b[0m\u001b[1;33m(\u001b[0m\u001b[0mResNet50\u001b[0m\u001b[1;33m,\u001b[0m\u001b[1;33m(\u001b[0m\u001b[1;36m224\u001b[0m\u001b[1;33m,\u001b[0m\u001b[1;36m224\u001b[0m\u001b[1;33m)\u001b[0m\u001b[1;33m)\u001b[0m\u001b[1;33m\u001b[0m\u001b[0m\n\u001b[0m",
      "\u001b[1;32m<ipython-input-5-d77653959525>\u001b[0m in \u001b[0;36mwrite_gap\u001b[1;34m(MODEL, image_size, lambda_func)\u001b[0m\n\u001b[0;32m     26\u001b[0m                                             image_size,shuffle = False, batch_size = 16, class_mode = None)\n\u001b[0;32m     27\u001b[0m \u001b[1;33m\u001b[0m\u001b[0m\n\u001b[1;32m---> 28\u001b[1;33m     \u001b[0mtrain\u001b[0m \u001b[1;33m=\u001b[0m \u001b[0mmodel\u001b[0m\u001b[1;33m.\u001b[0m\u001b[0mpredict_generator\u001b[0m\u001b[1;33m(\u001b[0m\u001b[0mtrain_generator\u001b[0m\u001b[1;33m,\u001b[0m \u001b[0mtrain_generator\u001b[0m\u001b[1;33m.\u001b[0m\u001b[0mnb_sample\u001b[0m\u001b[1;33m)\u001b[0m\u001b[1;33m\u001b[0m\u001b[0m\n\u001b[0m\u001b[0;32m     29\u001b[0m     \u001b[0mtest\u001b[0m \u001b[1;33m=\u001b[0m \u001b[0mmodel\u001b[0m\u001b[1;33m.\u001b[0m\u001b[0mpredict_generator\u001b[0m\u001b[1;33m(\u001b[0m\u001b[0mtest_generator\u001b[0m\u001b[1;33m,\u001b[0m \u001b[0mtest_generator\u001b[0m\u001b[1;33m.\u001b[0m\u001b[0mnb_sample\u001b[0m\u001b[1;33m)\u001b[0m\u001b[1;33m\u001b[0m\u001b[0m\n\u001b[0;32m     30\u001b[0m \u001b[1;33m\u001b[0m\u001b[0m\n",
      "\u001b[1;31mAttributeError\u001b[0m: 'DirectoryIterator' object has no attribute 'nb_sample'"
     ]
    }
   ],
   "source": [
    "from keras.models import *\n",
    "from keras.layers import *\n",
    "from keras.applications import *\n",
    "from keras.preprocessing.image import *\n",
    "from keras.applications.resnet50 import ResNet50\n",
    "from keras.applications.xception import Xception\n",
    "from keras.applications.inception_v3 import InceptionV3\n",
    "\n",
    "import h5py\n",
    "\n",
    "def write_gap(MODEL, image_size, lambda_func = None):\n",
    "    width = image_size[0]\n",
    "    height = image_size[1]\n",
    "    input_tensor = Input((height,width,3))\n",
    "    x = input_tensor\n",
    "    if lambda_func:\n",
    "        x = Lambda(lambda_func)(x)\n",
    "    \n",
    "    base_model = MODEL(input_tensor = x, weights = \"imagenet\", include_top = False)\n",
    "    model = Model(base_model.input, GlobalAveragePooling2D()(base_model.output))\n",
    "    \n",
    "    gen = ImageDataGenerator()\n",
    "    train_generator = gen.flow_from_directory(\"C:/Users/hh/Desktop/Kaggle/2.0 CatdogNet/input/train4\", \n",
    "                                             image_size,shuffle = False, batch_size = 16)\n",
    "    test_generator = gen.flow_from_directory(\"C:/Users/hh/Desktop/Kaggle/2.0 CatdogNet/input/test4\", \n",
    "                                            image_size,shuffle = False, batch_size = 16, class_mode = None)\n",
    "    \n",
    "    train = model.predict_generator(train_generator, train_generator.nb_sample)\n",
    "    test = model.predict_generator(test_generator, test_generator.nb_sample)\n",
    "    \n",
    "    with h5py.File(\"gap_%s.h5\"%MODEL.func_name) as h:\n",
    "        h.create_dataset(\"train\",data = train)\n",
    "        h.create_dataset(\"test\",data = test)\n",
    "        h.create_dataset(\"label\",data = train_generator.classes)\n",
    "        \n",
    "write_gap(ResNet50,(224,224))"
   ]
  },
  {
   "cell_type": "code",
   "execution_count": null,
   "metadata": {
    "collapsed": true
   },
   "outputs": [],
   "source": [
    "write_gap(Xception, (299, 299), xception.preprocess_input)"
   ]
  }
 ],
 "metadata": {
  "kernelspec": {
   "display_name": "Python [default]",
   "language": "python",
   "name": "python3"
  },
  "language_info": {
   "codemirror_mode": {
    "name": "ipython",
    "version": 3
   },
   "file_extension": ".py",
   "mimetype": "text/x-python",
   "name": "python",
   "nbconvert_exporter": "python",
   "pygments_lexer": "ipython3",
   "version": "3.5.4"
  }
 },
 "nbformat": 4,
 "nbformat_minor": 2
}
