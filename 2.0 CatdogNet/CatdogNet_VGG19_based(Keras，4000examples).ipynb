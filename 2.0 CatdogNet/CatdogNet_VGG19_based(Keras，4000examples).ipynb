{
 "cells": [
  {
   "cell_type": "code",
   "execution_count": 2,
   "metadata": {},
   "outputs": [
    {
     "name": "stdout",
     "output_type": "stream",
     "text": [
      "_________________________________________________________________\n",
      "Layer (type)                 Output Shape              Param #   \n",
      "=================================================================\n",
      "input_1 (InputLayer)         (None, 150, 150, 3)       0         \n",
      "_________________________________________________________________\n",
      "block1_conv1 (Conv2D)        (None, 150, 150, 64)      1792      \n",
      "_________________________________________________________________\n",
      "block1_conv2 (Conv2D)        (None, 150, 150, 64)      36928     \n",
      "_________________________________________________________________\n",
      "block1_pool (MaxPooling2D)   (None, 75, 75, 64)        0         \n",
      "_________________________________________________________________\n",
      "block2_conv1 (Conv2D)        (None, 75, 75, 128)       73856     \n",
      "_________________________________________________________________\n",
      "block2_conv2 (Conv2D)        (None, 75, 75, 128)       147584    \n",
      "_________________________________________________________________\n",
      "block2_pool (MaxPooling2D)   (None, 37, 37, 128)       0         \n",
      "_________________________________________________________________\n",
      "block3_conv1 (Conv2D)        (None, 37, 37, 256)       295168    \n",
      "_________________________________________________________________\n",
      "block3_conv2 (Conv2D)        (None, 37, 37, 256)       590080    \n",
      "_________________________________________________________________\n",
      "block3_conv3 (Conv2D)        (None, 37, 37, 256)       590080    \n",
      "_________________________________________________________________\n",
      "block3_conv4 (Conv2D)        (None, 37, 37, 256)       590080    \n",
      "_________________________________________________________________\n",
      "block3_pool (MaxPooling2D)   (None, 18, 18, 256)       0         \n",
      "_________________________________________________________________\n",
      "block4_conv1 (Conv2D)        (None, 18, 18, 512)       1180160   \n",
      "_________________________________________________________________\n",
      "block4_conv2 (Conv2D)        (None, 18, 18, 512)       2359808   \n",
      "_________________________________________________________________\n",
      "block4_conv3 (Conv2D)        (None, 18, 18, 512)       2359808   \n",
      "_________________________________________________________________\n",
      "block4_conv4 (Conv2D)        (None, 18, 18, 512)       2359808   \n",
      "_________________________________________________________________\n",
      "block4_pool (MaxPooling2D)   (None, 9, 9, 512)         0         \n",
      "_________________________________________________________________\n",
      "block5_conv1 (Conv2D)        (None, 9, 9, 512)         2359808   \n",
      "_________________________________________________________________\n",
      "block5_conv2 (Conv2D)        (None, 9, 9, 512)         2359808   \n",
      "_________________________________________________________________\n",
      "block5_conv3 (Conv2D)        (None, 9, 9, 512)         2359808   \n",
      "_________________________________________________________________\n",
      "block5_conv4 (Conv2D)        (None, 9, 9, 512)         2359808   \n",
      "_________________________________________________________________\n",
      "block5_pool (MaxPooling2D)   (None, 4, 4, 512)         0         \n",
      "=================================================================\n",
      "Total params: 20,024,384\n",
      "Trainable params: 20,024,384\n",
      "Non-trainable params: 0\n",
      "_________________________________________________________________\n"
     ]
    }
   ],
   "source": [
    "# 采用Transfer Learning,对VGG19进行特征抽取\n",
    "# 即对VGG19中Flatten后面的神经层全部去掉，换上我们自己的神经层，这个行为叫做特征抽取\n",
    "# 注：VGG19中，前面的多重卷积层和池化层对图像特征已做了很好的提取，此部分可以直接使用\n",
    "\n",
    "# 通过代码来初始化一个VGG19网络实例\n",
    "import keras\n",
    "from keras.applications.vgg19 import VGG19\n",
    "from keras.preprocessing import image\n",
    "from keras.applications.vgg19 import preprocess_input\n",
    "from keras.preprocessing.image import ImageDataGenerator\n",
    "import numpy as np\n",
    "\n",
    "# 下载vgg19模型预训练权重，将之放到~/.keras/model/下面，\n",
    "# 这样在keras导入vgg16的时候就不会联网下载\n",
    "\n",
    "# weight参数告诉程序将网络的卷积层和max pooling层对应的参数传递过来，\n",
    "# 并将它们初始化成对应的网络层次\n",
    "# include_top表示是否也要把Flatten()后面的网络层也下载过来\n",
    "# input_shape告诉网络，我们输入图片的大小是150*150像素，每个像素由[R, G, B]三个值表示\n",
    "conv_base = VGG19(weights=\"imagenet\", include_top=False,input_shape = (150,150,3))\n",
    "\n",
    "conv_base.summary()"
   ]
  },
  {
   "cell_type": "code",
   "execution_count": 3,
   "metadata": {},
   "outputs": [
    {
     "name": "stdout",
     "output_type": "stream",
     "text": [
      "Found 2000 images belonging to 2 classes.\n",
      "Found 1000 images belonging to 2 classes.\n",
      "Found 1000 images belonging to 2 classes.\n"
     ]
    }
   ],
   "source": [
    "# 接下来我们将把自己的图片读进来，\n",
    "# 把图片喂给上面网络，让它把图片的隐含信息给抽取出来\n",
    "import os\n",
    "import numpy as np\n",
    "from keras.preprocessing.image import ImageDataGenerator\n",
    "\n",
    "base_dir = \"C:/Users/hh/Desktop/Kaggle/2.0 CatdogNet/input/train3\"\n",
    "train_dir = os.path.join(base_dir,\"train\")\n",
    "validation_dir = os.path.join(base_dir,\"validation\")\n",
    "test_dir = os.path.join(base_dir,\"test\")\n",
    "\n",
    "datagen = ImageDataGenerator(rescale = 1. / 255)\n",
    "batch_size = 20\n",
    "\n",
    "# generator 实际上是将数据批量读入内存，使得代码能以for in 的方式去方便的访问\n",
    "# 利用VGG16的卷积层把图片的特征抽取出来\n",
    "def extract_features(directory,sample_count):\n",
    "    features = np.zeros(shape = (sample_count,4,4,512))\n",
    "    labels = np.zeros(shape = (sample_count))\n",
    "    generator = datagen.flow_from_directory(directory,target_size = (150,150),\n",
    "                                           batch_size = batch_size,\n",
    "                                           class_mode = \"binary\")\n",
    "    i = 0\n",
    "    for inputs_batch,labels_batch in generator:\n",
    "        # 把图片输入VGG16层的卷积层，让它把图片信息抽取出来\n",
    "        features_batch = conv_base.predict(inputs_batch)\n",
    "        # feature_batch是4*4*512结构的\n",
    "        features[i * batch_size: (i + 1) * batch_size] = features_batch\n",
    "        labels[i * batch_size: (i + 1) * batch_size] = labels_batch\n",
    "        i += 1\n",
    "        if i * batch_size >= sample_count:\n",
    "            # for in 在generator上的循环是无限的，因此需要主动break掉\n",
    "            break\n",
    "        return features,labels\n",
    "# extract_features返回数据格式为（samples，4,4,512）\n",
    "train_features,train_labels = extract_features(train_dir,2000)\n",
    "validation_features,validation_labels = extract_features(validation_dir,1000)\n",
    "test_features,test_labels = extract_features(test_dir,1000)"
   ]
  },
  {
   "cell_type": "code",
   "execution_count": 4,
   "metadata": {},
   "outputs": [
    {
     "name": "stdout",
     "output_type": "stream",
     "text": [
      "Train on 2000 samples, validate on 1000 samples\n",
      "Epoch 1/30\n",
      "2000/2000 [==============================] - 4s 2ms/step - loss: 0.6931 - acc: 0.9945 - val_loss: 0.6864 - val_acc: 0.9930\n",
      "Epoch 2/30\n",
      "2000/2000 [==============================] - 3s 2ms/step - loss: 0.6832 - acc: 0.9975 - val_loss: 0.6855 - val_acc: 0.9880\n",
      "Epoch 3/30\n",
      "2000/2000 [==============================] - 3s 2ms/step - loss: 0.6758 - acc: 0.9960 - val_loss: 0.6825 - val_acc: 0.9880\n",
      "Epoch 4/30\n",
      "2000/2000 [==============================] - 3s 2ms/step - loss: 0.6685 - acc: 0.9965 - val_loss: 0.6774 - val_acc: 0.9880\n",
      "Epoch 5/30\n",
      "2000/2000 [==============================] - 3s 2ms/step - loss: 0.6610 - acc: 0.9970 - val_loss: 0.6671 - val_acc: 0.9880\n",
      "Epoch 6/30\n",
      "2000/2000 [==============================] - 3s 2ms/step - loss: 0.6518 - acc: 0.9970 - val_loss: 0.6577 - val_acc: 0.9880\n",
      "Epoch 7/30\n",
      "2000/2000 [==============================] - 3s 2ms/step - loss: 0.6419 - acc: 0.9980 - val_loss: 0.6469 - val_acc: 0.9880\n",
      "Epoch 8/30\n",
      "2000/2000 [==============================] - 3s 2ms/step - loss: 0.6348 - acc: 0.9980 - val_loss: 0.6410 - val_acc: 0.9880\n",
      "Epoch 9/30\n",
      "2000/2000 [==============================] - 3s 2ms/step - loss: 0.6242 - acc: 0.9980 - val_loss: 0.6307 - val_acc: 0.9890\n",
      "Epoch 10/30\n",
      "2000/2000 [==============================] - 3s 2ms/step - loss: 0.6165 - acc: 0.9980 - val_loss: 0.6239 - val_acc: 0.9890\n",
      "Epoch 11/30\n",
      "2000/2000 [==============================] - 3s 2ms/step - loss: 0.6069 - acc: 0.9980 - val_loss: 0.6135 - val_acc: 0.9900\n",
      "Epoch 12/30\n",
      "2000/2000 [==============================] - 3s 2ms/step - loss: 0.5978 - acc: 0.9990 - val_loss: 0.6036 - val_acc: 0.9900\n",
      "Epoch 13/30\n",
      "2000/2000 [==============================] - 3s 2ms/step - loss: 0.5870 - acc: 0.9995 - val_loss: 0.5945 - val_acc: 0.9900\n",
      "Epoch 14/30\n",
      "2000/2000 [==============================] - 3s 2ms/step - loss: 0.5778 - acc: 0.9995 - val_loss: 0.5867 - val_acc: 0.9900\n",
      "Epoch 15/30\n",
      "2000/2000 [==============================] - 3s 2ms/step - loss: 0.5675 - acc: 0.9995 - val_loss: 0.5796 - val_acc: 0.9900\n",
      "Epoch 16/30\n",
      "2000/2000 [==============================] - 3s 2ms/step - loss: 0.5578 - acc: 1.0000 - val_loss: 0.5652 - val_acc: 0.9900\n",
      "Epoch 17/30\n",
      "2000/2000 [==============================] - 3s 2ms/step - loss: 0.5476 - acc: 0.9995 - val_loss: 0.5562 - val_acc: 0.9900\n",
      "Epoch 18/30\n",
      "2000/2000 [==============================] - 3s 2ms/step - loss: 0.5379 - acc: 0.9995 - val_loss: 0.5493 - val_acc: 0.9900\n",
      "Epoch 19/30\n",
      "2000/2000 [==============================] - 3s 2ms/step - loss: 0.5269 - acc: 1.0000 - val_loss: 0.5382 - val_acc: 0.9900\n",
      "Epoch 20/30\n",
      "2000/2000 [==============================] - 3s 2ms/step - loss: 0.5169 - acc: 0.9995 - val_loss: 0.5305 - val_acc: 0.9900\n",
      "Epoch 21/30\n",
      "2000/2000 [==============================] - 3s 2ms/step - loss: 0.5066 - acc: 0.9995 - val_loss: 0.5184 - val_acc: 0.9900\n",
      "Epoch 22/30\n",
      "2000/2000 [==============================] - 3s 2ms/step - loss: 0.4966 - acc: 0.9995 - val_loss: 0.5150 - val_acc: 0.9900\n",
      "Epoch 23/30\n",
      "2000/2000 [==============================] - 3s 2ms/step - loss: 0.4862 - acc: 0.9995 - val_loss: 0.5037 - val_acc: 0.9900\n",
      "Epoch 24/30\n",
      "2000/2000 [==============================] - 3s 2ms/step - loss: 0.4753 - acc: 0.9995 - val_loss: 0.4866 - val_acc: 0.9910\n",
      "Epoch 25/30\n",
      "2000/2000 [==============================] - 3s 2ms/step - loss: 0.4640 - acc: 1.0000 - val_loss: 0.4778 - val_acc: 0.9910\n",
      "Epoch 26/30\n",
      "2000/2000 [==============================] - 3s 2ms/step - loss: 0.4530 - acc: 0.9995 - val_loss: 0.4677 - val_acc: 0.9910\n",
      "Epoch 27/30\n",
      "2000/2000 [==============================] - 3s 2ms/step - loss: 0.4430 - acc: 0.9995 - val_loss: 0.4575 - val_acc: 0.9910\n",
      "Epoch 28/30\n",
      "2000/2000 [==============================] - 3s 2ms/step - loss: 0.4321 - acc: 0.9995 - val_loss: 0.4501 - val_acc: 0.9910\n",
      "Epoch 29/30\n",
      "2000/2000 [==============================] - 3s 2ms/step - loss: 0.4219 - acc: 1.0000 - val_loss: 0.4394 - val_acc: 0.9910\n",
      "Epoch 30/30\n",
      "2000/2000 [==============================] - 3s 2ms/step - loss: 0.4112 - acc: 1.0000 - val_loss: 0.4303 - val_acc: 0.9910\n"
     ]
    }
   ],
   "source": [
    "# 上面代码利用VGG16的卷积层把图片的特征抽取出来，\n",
    "# 接下来就可以把抽取的特征输入到我们自己的神经层中进行分类\n",
    "train_features = np.reshape(train_features,(2000,4*4*512))\n",
    "validation_features = np.reshape(validation_features,(1000,4*4*512))\n",
    "test_features = np.reshape(test_features,(1000,4*4*512))\n",
    "\n",
    "from keras import models\n",
    "from keras import layers\n",
    "from keras import optimizers\n",
    "\n",
    "# 构造新的网络对输出层进行分类\n",
    "model = models.Sequential()\n",
    "model.add(layers.Dense(256,activation = \"relu\",input_dim = 4 * 4 * 512))\n",
    "model.add(layers.Dropout(0.5))\n",
    "model.add(layers.Dense(1,activation = \"sigmoid\"))\n",
    "\n",
    "model.compile(optimizer = optimizers.RMSprop(lr = 2e-5), loss = \"binary_crossentropy\",\n",
    "             metrics = [\"acc\"])\n",
    "history = model.fit(train_features,train_labels,epochs = 30,batch_size = 20,\n",
    "                   validation_data = (validation_features,validation_labels))"
   ]
  },
  {
   "cell_type": "code",
   "execution_count": 5,
   "metadata": {},
   "outputs": [
    {
     "data": {
      "image/png": "[encoded data removed]",
      "text/plain": [
       "<matplotlib.figure.Figure at 0x7bd7780>"
      ]
     },
     "metadata": {},
     "output_type": "display_data"
    },
    {
     "data": {
      "image/png": "[encoded data removed]",
      "text/plain": [
       "<matplotlib.figure.Figure at 0x19c06dd8>"
      ]
     },
     "metadata": {},
     "output_type": "display_data"
    }
   ],
   "source": [
    "# 绘制曲线\n",
    "import matplotlib.pyplot as plt\n",
    "\n",
    "acc = history.history[\"acc\"]\n",
    "val_acc = history.history[\"val_acc\"]\n",
    "loss = history.history[\"loss\"]\n",
    "val_loss = history.history[\"val_loss\"]\n",
    "\n",
    "epochs = range(1,len(acc) + 1)\n",
    "\n",
    "plt.plot(epochs,acc,\"bo\",label = \"Train_acc\")\n",
    "plt.plot(epochs,val_acc,\"b\",label = \"Validation acc\")\n",
    "plt.title(\"Training and validation accuracy\")\n",
    "plt.legend()\n",
    "\n",
    "plt.figure()\n",
    "\n",
    "plt.plot(epochs,loss,\"bo\",label = \"Training loss\")\n",
    "plt.plot(epochs,val_loss,\"b\",label= \"Validation loss\")\n",
    "plt.title(\"Training and validation loss\")\n",
    "plt.legend()\n",
    "\n",
    "plt.show()"
   ]
  },
  {
   "cell_type": "code",
   "execution_count": null,
   "metadata": {
    "collapsed": true
   },
   "outputs": [],
   "source": []
  }
 ],
 "metadata": {
  "kernelspec": {
   "display_name": "Python [default]",
   "language": "python",
   "name": "python3"
  },
  "language_info": {
   "codemirror_mode": {
    "name": "ipython",
    "version": 3
   },
   "file_extension": ".py",
   "mimetype": "text/x-python",
   "name": "python",
   "nbconvert_exporter": "python",
   "pygments_lexer": "ipython3",
   "version": "3.5.4"
  }
 },
 "nbformat": 4,
 "nbformat_minor": 2
}
